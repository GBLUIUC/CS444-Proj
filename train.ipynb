{
 "cells": [
  {
   "cell_type": "code",
   "execution_count": null,
   "source": [
    "from google.colab import drive\r\n",
    "drive.mount(\"/content/gdrive\")\r\n",
    "\r\n",
    "import os\r\n",
    "os.chdir(\"/content/gdrive/My Drive/CS 444/proj\")"
   ],
   "outputs": [],
   "metadata": {}
  },
  {
   "cell_type": "code",
   "execution_count": null,
   "source": [
    "import torch\r\n",
    "import torch.nn as nn\r\n",
    "import torch.nn.functional as F\r\n",
    "from torch.utils.data import DataLoader\r\n",
    "import numpy as np"
   ],
   "outputs": [],
   "metadata": {}
  },
  {
   "cell_type": "code",
   "execution_count": null,
   "source": [
    "from model import BaseNetwork\r\n",
    "from loss import quadratic_weighted_kappa\r\n",
    "from util import load_data, plot"
   ],
   "outputs": [],
   "metadata": {}
  },
  {
   "cell_type": "code",
   "execution_count": null,
   "source": [
    "# Create the BaseNet and define a couple of parameters\r\n",
    "num_classes = 6 # ISUP scores range from 0 to 5\r\n",
    "basenet = BaseNetwork(num_classes)\r\n",
    "\r\n",
    "learning_rate = 0.001\r\n",
    "num_epochs = 20\r\n",
    "batch_size = 24"
   ],
   "outputs": [],
   "metadata": {}
  },
  {
   "cell_type": "code",
   "execution_count": null,
   "source": [
    "print(torch.cuda.is_available())\r\n",
    "device = torch.device(\"cuda:0\" if torch.cuda.is_available() else \"cpu\")"
   ],
   "outputs": [],
   "metadata": {}
  },
  {
   "cell_type": "code",
   "execution_count": null,
   "source": [
    "# Load training and validation data\r\n",
    "train_data_path = 'data/train/train_data_cleaned/'\r\n",
    "val_data_path = 'data/validation/val_data_cleaned/'\r\n",
    "\r\n",
    "train_dataset = load_data(train_data_path)\r\n",
    "val_dataset = load_data(val_data_path)\r\n",
    "\r\n",
    "train_loader = DataLoader(train_dataset, batch_size=batch_size, shuffle=True, num_workers=2)\r\n",
    "val_loader = DataLoader(val_dataset, batch_size=batch_size, shuffle=True, num_workers=2)"
   ],
   "outputs": [],
   "metadata": {}
  },
  {
   "cell_type": "code",
   "execution_count": null,
   "source": [
    "# For different models select the optimizer and loss function you want to use \r\n",
    "\r\n",
    "# Choose between SGD or Adam\r\n",
    "optimizer = torch.optim.SGD(basenet.parameters(), lr=learning_rate, momentum=0.9, weight_decay=5e-4) \r\n",
    "\r\n",
    "# Choose between Categorical Cross Entropy, Mean Square Error, or Quadratic Weighted Kappa \r\n",
    "loss = nn.CrossEntropyLoss()\r\n"
   ],
   "outputs": [],
   "metadata": {}
  },
  {
   "cell_type": "code",
   "execution_count": null,
   "source": [
    "# Training Loop\r\n",
    "train_loss = []\r\n",
    "val_loss = []\r\n",
    "train_acc = []\r\n",
    "val_acc = []\r\n",
    "\r\n",
    "for epoch in range(num_epochs):\r\n",
    "    basenet.train()\r\n",
    "\r\n",
    "    # Update learning rate late in training\r\n",
    "    if epoch == 30 or epoch == 40:\r\n",
    "        learning_rate /= 10.0\r\n",
    "\r\n",
    "    for i, data in enumerate(train_loader):\r\n",
    "        data = data.to(device)\r\n",
    "        image, target = data \r\n",
    "        loss_value = loss(pred, target)\r\n",
    "\r\n",
    "        # Zero out the gradient and take an optimizer step\r\n",
    "        optimizer.zero_grad()\r\n",
    "        loss.backward()\r\n",
    "        optimizer.step()\r\n",
    "\r\n",
    "        train_loss.append(loss_value)\r\n",
    "\r\n",
    "    with torch.no_grad():\r\n",
    "        basenet.eval()\r\n",
    "\r\n",
    "        for i, data in enumerate(val_loader):\r\n",
    "            data = data.to(device)\r\n",
    "            image, target = data\r\n",
    "            pred = basenet(image)\r\n",
    "            loss_value = loss(pred, target)\r\n",
    "            val_loss.append(loss_value)"
   ],
   "outputs": [],
   "metadata": {}
  },
  {
   "cell_type": "code",
   "execution_count": null,
   "source": [
    "# Display the results\r\n",
    "plot('SGD', 'Quadratic Weighted Kappa', train_loss=train_loss, val_loss=val_loss, train_acc=train_acc, val_acc=val_acc)"
   ],
   "outputs": [],
   "metadata": {}
  }
 ],
 "metadata": {
  "orig_nbformat": 4,
  "language_info": {
   "name": "python"
  }
 },
 "nbformat": 4,
 "nbformat_minor": 2
}